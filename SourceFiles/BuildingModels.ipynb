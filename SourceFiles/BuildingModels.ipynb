{
 "cells": [
  {
   "cell_type": "code",
   "execution_count": 22,
   "metadata": {},
   "outputs": [],
   "source": [
    "import tensorflow as tf\n",
    "import numpy as np\n",
    "import matplotlib.pyplot as plt\n",
    "import pandas as pd\n",
    "\n",
    "NatureIndexDF = pd.read_csv('../Data/NatureIndex/NatureIndex_2015.csv')\n",
    "NatureIndexDF.drop(columns=['Institution'], inplace=True)\n",
    "NatureIndexDF.describe()\n",
    "NatureIndexDF.rename(columns={'2015': 'Rank'}, inplace=True)"
   ]
  },
  {
   "cell_type": "code",
   "execution_count": 23,
   "metadata": {},
   "outputs": [
    {
     "name": "stdout",
     "output_type": "stream",
     "text": [
      "[3 1 2 0 4]\n"
     ]
    }
   ],
   "source": [
    "from sklearn.preprocessing import StandardScaler\n",
    "from sklearn.decomposition import PCA\n",
    "from sklearn.cluster import KMeans\n",
    "\n",
    "# Standardize the data\n",
    "scaler = StandardScaler()\n",
    "scaled_data = scaler.fit_transform(NatureIndexDF[['Share', 'Count', 'Publication share']])\n",
    "\n",
    "# Reduce dimensions with PCA for better clustering\n",
    "pca = PCA(n_components=2)\n",
    "pca_data = pca.fit_transform(scaled_data)\n",
    "\n",
    "# Perform K-means clustering\n",
    "kmeans = KMeans(n_clusters=5, random_state=0)\n",
    "cluster_assignments = kmeans.fit_predict(pca_data)\n",
    "\n",
    "# Add the cluster assignments to the original dataframe\n",
    "NatureIndexDF['Cluster'] = cluster_assignments\n",
    "\n",
    "print(NatureIndexDF['Cluster'].unique())"
   ]
  },
  {
   "cell_type": "code",
   "execution_count": 24,
   "metadata": {},
   "outputs": [
    {
     "data": {
      "text/plain": [
       "array(['Switzerland', 'United States of America (USA)', 'Canada', 'Japan',\n",
       "       'China', 'United Kingdom (UK)', 'France'], dtype=object)"
      ]
     },
     "execution_count": 24,
     "metadata": {},
     "output_type": "execute_result"
    }
   ],
   "source": [
    "NatureIndexDF[NatureIndexDF['Cluster'] == 1].describe()\n",
    "NatureIndexDF[NatureIndexDF['Cluster'] == 1]['Country'].unique()"
   ]
  },
  {
   "cell_type": "code",
   "execution_count": 25,
   "metadata": {},
   "outputs": [
    {
     "data": {
      "text/plain": [
       "array(['Singapore', 'Switzerland', 'China',\n",
       "       'United States of America (USA)', 'Japan', 'Canada', 'Germany',\n",
       "       'Israel', 'United Kingdom (UK)', 'South Korea', 'Australia',\n",
       "       'Denmark', 'Netherlands', 'Sweden', 'France'], dtype=object)"
      ]
     },
     "execution_count": 25,
     "metadata": {},
     "output_type": "execute_result"
    }
   ],
   "source": [
    "NatureIndexDF[NatureIndexDF['Cluster'] == 2].describe()\n",
    "NatureIndexDF[NatureIndexDF['Cluster'] == 2]['Country'].unique()"
   ]
  },
  {
   "cell_type": "code",
   "execution_count": 26,
   "metadata": {},
   "outputs": [
    {
     "data": {
      "text/plain": [
       "array(['China', 'United States of America (USA)', 'Israel', 'Germany',\n",
       "       'Japan', 'Taiwan', 'Australia', 'Canada', 'South Korea', 'Belgium',\n",
       "       'Netherlands', 'Sweden', 'United Kingdom (UK)', 'Saudi Arabia',\n",
       "       'Switzerland', 'Denmark', 'Spain', 'France', 'Finland', 'Italy',\n",
       "       'Brazil', 'Norway', 'Russia', 'Czech Republic'], dtype=object)"
      ]
     },
     "execution_count": 26,
     "metadata": {},
     "output_type": "execute_result"
    }
   ],
   "source": [
    "NatureIndexDF[NatureIndexDF['Cluster'] == 0].describe()\n",
    "NatureIndexDF[NatureIndexDF['Cluster'] == 0]['Country'].unique()"
   ]
  },
  {
   "cell_type": "code",
   "execution_count": null,
   "metadata": {},
   "outputs": [],
   "source": [
    "\n",
    "NatureIndexDF[NatureIndexDF['Cluster'] == 3].describe()\n",
    "NatureIndexDF[NatureIndexDF['Cluster'] == 3]['Country'].unique()"
   ]
  },
  {
   "cell_type": "code",
   "execution_count": null,
   "metadata": {},
   "outputs": [],
   "source": [
    "\n",
    "NatureIndexDF[NatureIndexDF['Cluster'] == 4].describe()\n",
    "NatureIndexDF[NatureIndexDF['Cluster'] == 4]['Country'].unique()"
   ]
  }
 ],
 "metadata": {
  "kernelspec": {
   "display_name": "Python 3",
   "language": "python",
   "name": "python3"
  },
  "language_info": {
   "codemirror_mode": {
    "name": "ipython",
    "version": 3
   },
   "file_extension": ".py",
   "mimetype": "text/x-python",
   "name": "python",
   "nbconvert_exporter": "python",
   "pygments_lexer": "ipython3",
   "version": "3.12.5"
  }
 },
 "nbformat": 4,
 "nbformat_minor": 2
}
